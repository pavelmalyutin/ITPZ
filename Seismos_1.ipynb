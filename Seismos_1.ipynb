{
 "cells": [
  {
   "cell_type": "markdown",
   "metadata": {},
   "source": [
    "# Малютин Павел, ИТПЗ РАН\n",
    " "
   ]
  },
  {
   "cell_type": "code",
   "execution_count": 1,
   "metadata": {},
   "outputs": [],
   "source": [
    "import pandas as pd\n",
    "import math \n",
    "import dask.dataframe as dd\n",
    "import matplotlib.pyplot as plt\n",
    "import numpy as np\n",
    "from tqdm import tqdm\n",
    "from numba import jit, njit\n",
    "from sklearn.linear_model import LinearRegression"
   ]
  },
  {
   "cell_type": "markdown",
   "metadata": {},
   "source": [
    "# b-value calculating"
   ]
  },
  {
   "cell_type": "code",
   "execution_count": 34,
   "metadata": {
    "scrolled": true
   },
   "outputs": [],
   "source": [
    "'''чтение файла из директории проги\n",
    "и устранение выбросов значений магнитуды округлением до 1 знака пз.'''\n",
    "my_cat = pd.read_csv('./catalogues/query (7).csv')\n",
    "my_cat.mag = round(my_cat.mag, 1)  \n"
   ]
  },
  {
   "cell_type": "code",
   "execution_count": 35,
   "metadata": {
    "scrolled": false
   },
   "outputs": [
    {
     "data": {
      "text/plain": [
       "Text(0.5, 0.98, 'График повторяемости землетрясений')"
      ]
     },
     "execution_count": 35,
     "metadata": {},
     "output_type": "execute_result"
    },
    {
     "data": {
      "image/png": "[encoded data removed]",
      "text/plain": [
       "<Figure size 432x288 with 1 Axes>"
      ]
     },
     "metadata": {
      "needs_background": "light"
     },
     "output_type": "display_data"
    }
   ],
   "source": [
    "'''Следующий кусок вычисляет необходимые для построения графика повторяемости EQ параметры\n",
    "а именно: N_tot - суммарное количество землетрясений\n",
    "a - Series, состоящая из значений lg(N/N_tot) и соотвествующих магнитуд\n",
    "и, собственно строит график ПЗ для оценки справедливости Г-Р.'''\n",
    "N_tot = my_cat.shape\n",
    "f = lambda x: math.log10(x/N_tot[0])\n",
    "a = my_cat.mag.value_counts().apply(f)\n",
    "a.plot(style='.')\n",
    "plt.grid()\n",
    "plt.xlabel(\"M\")\n",
    "plt.ylabel(\"logN\")\n",
    "plt.suptitle('График повторяемости землетрясений', \n",
    "             fontsize=14, fontweight='bold')\n",
    " # расчет b-value по формуле Aki\n",
    "# mag - СТОЛБЕЦ С МАГНИТУДОЙ В ДАННОЙ csv\n"
   ]
  },
  {
   "cell_type": "markdown",
   "metadata": {},
   "source": [
    "### Необходимо выбрать представительную магнитуду"
   ]
  },
  {
   "cell_type": "code",
   "execution_count": 36,
   "metadata": {},
   "outputs": [
    {
     "name": "stdout",
     "output_type": "stream",
     "text": [
      "1\n",
      "\u001b[1mb-value is: 1.0371328511877258  ±  0.028513758610411312\n"
     ]
    }
   ],
   "source": [
    "M_0 = float(input())\n",
    "b_value = 1 / (my_cat['mag'].mean() - M_0) * (1/ math.log(10))\n",
    "# расчет b-value по формуле Aki\n",
    "# mag - СТОЛБЕЦ С МАГНИТУДОЙ В ДАННОЙ csv\n",
    "print('\\033[1m'+'b-value is:', b_value, ' ± ', b_value/math.sqrt(N_tot[0]))"
   ]
  },
  {
   "cell_type": "markdown",
   "metadata": {},
   "source": [
    "# Fractal dimension\n",
    "#### но, прежде всего, функция вычисления расстояния между землетрясениями\n"
   ]
  },
  {
   "cell_type": "code",
   "execution_count": 37,
   "metadata": {},
   "outputs": [],
   "source": [
    "global Pi2, RAD, FLAT\n",
    "Pi2 = math.pi/2 # тупо пи-на-два\n",
    "RAD = 0.01745329 # DGR -> RAD\n",
    "FLAT = 0.993231 # поправка на эллипсоидноть"
   ]
  },
  {
   "cell_type": "code",
   "execution_count": 38,
   "metadata": {},
   "outputs": [],
   "source": [
    "#@njit\n",
    "def eq_dist (fi1, la1, fi2, la2, d1, d2): # fi - широта (latitude), la - долгота (longtitude)\n",
    "    '''Функция позволяет вычислять расстояение между двумя точками земли с учетом сплюсности и глубины'''    \n",
    "    #if ((fi1-fi2)==0 and (la1-la2)==0): #проверка на расстояние между одним и тем же землетрясением\n",
    "    #    return (0.0)  \n",
    "    col1 = Pi2 - math.atan(FLAT * math.tan(fi1 * RAD))\n",
    "    col2 = Pi2 - math.atan(FLAT * math.tan(fi2 * RAD))\n",
    "    \n",
    "    dlon =  la2 * RAD - la1 * RAD\n",
    "    \n",
    "    cosdel = math.sin(col1) * math.sin (col2) * math.cos(dlon) + math.cos(col1) * math.cos(col2)\n",
    "    delr = math.acos(cosdel)\n",
    "    colat = Pi2 - (fi1 * RAD + fi2 * RAD) / 2.0\n",
    "    distan_eq =  math.sqrt((delr * 6371.227 * (1.0 + 0.00337853 * (1./3. -((math.cos(colat))*math.cos(colat)))))**2 + (d2-d1)**2)\n",
    "    if distan_eq == 0:\n",
    "        distan_eq = 0.01\n",
    "    return distan_eq"
   ]
  },
  {
   "cell_type": "markdown",
   "metadata": {},
   "source": [
    "## Непосредственный расчёт фрактальной размерности"
   ]
  },
  {
   "cell_type": "code",
   "execution_count": 40,
   "metadata": {},
   "outputs": [],
   "source": [
    "'''создание numpy-array для более быстрого обращения [к памяти]\n",
    "в цикле к соответствующим значениям широты и долготы'''\n",
    "latitude = my_cat.latitude.to_numpy()\n",
    "longitude = my_cat.longitude.to_numpy()\n",
    "depth = my_cat.depth.to_numpy()"
   ]
  },
  {
   "cell_type": "code",
   "execution_count": 41,
   "metadata": {},
   "outputs": [
    {
     "name": "stderr",
     "output_type": "stream",
     "text": [
      "100%|█████████████████████████████████████| 1323/1323 [00:07<00:00, 182.11it/s]\n"
     ]
    }
   ],
   "source": [
    "'''Вместо того, чтобы каждый раз перебирать для каждого заданного расстояния между\n",
    "землетрясениями все возможные пары расстояний, в самом начале создается массив\n",
    "с этими парами. Это существенно сокращает время выполнения программы'''\n",
    "\n",
    "array_of_dist = [[0] * N_tot[0] for i in range(N_tot[0])]\n",
    "\n",
    "for i in tqdm(range((N_tot[0]))):\n",
    "    for j in range(i+1, N_tot[0]):\n",
    "        #array_of_dist.append(eq_dist(latitude[k], longitude[k], latitude[j], longitude[j], depth[k], depth[j]))\n",
    "        array_of_dist[i][j] = eq_dist(latitude[i], longitude[i], latitude[j], longitude[j], depth[i], depth[j])\n",
    "        array_of_dist[j][i] = array_of_dist[i][j]"
   ]
  },
  {
   "cell_type": "code",
   "execution_count": 45,
   "metadata": {},
   "outputs": [
    {
     "name": "stderr",
     "output_type": "stream",
     "text": [
      "100%|██████████████████████████████████████████| 50/50 [00:19<00:00,  2.59it/s]\n"
     ]
    }
   ],
   "source": [
    "fractalka = pd.DataFrame(dtype='float')  #ДФ с lg(N/N_0) и lg(A)\n",
    "X = np.linspace(0.1,2,50) #задает равномерно распределенный массив возможных расстояний м/у ЗТ\n",
    "element_count = 0\n",
    "total_pairs = N_tot[0]*(N_tot[0]-1)/2    #общее количество пар землетрясений \n",
    "for i in tqdm(X):  \n",
    "    for n in range(N_tot[0]):\n",
    "        for m in range(n+1, N_tot[0]):\n",
    "            if array_of_dist[n][m] < i:\n",
    "                element_count += 1\n",
    "    fractalka = pd.concat([fractalka, pd.DataFrame ([math.log10(element_count/total_pairs)],[math.log10(i)])])\n",
    "    element_count = 0\n",
    "    #объединение старого массива для расчета FD и новых данных с lg(N/N_0) и lg(A)"
   ]
  },
  {
   "cell_type": "code",
   "execution_count": 46,
   "metadata": {},
   "outputs": [
    {
     "data": {
      "text/plain": [
       "Text(0, 0.5, 'log(N/N_0)')"
      ]
     },
     "execution_count": 46,
     "metadata": {},
     "output_type": "execute_result"
    },
    {
     "data": {
      "image/png": "[encoded data removed]",
      "text/plain": [
       "<Figure size 432x288 with 1 Axes>"
      ]
     },
     "metadata": {
      "needs_background": "light"
     },
     "output_type": "display_data"
    }
   ],
   "source": [
    "fractalka.plot(style='.')\n",
    "plt.suptitle('График зав-ти логарифма отн. числа пар землетрясений' '\\nпри заданном расстоянии от логарифма этого расстояния', \n",
    "             fontsize=14, fontweight='bold')\n",
    "plt.grid()\n",
    "plt.xlabel(\"log(A)\")\n",
    "plt.ylabel(\"log(N/N_0)\")"
   ]
  },
  {
   "cell_type": "code",
   "execution_count": 47,
   "metadata": {},
   "outputs": [
    {
     "name": "stdout",
     "output_type": "stream",
     "text": [
      "\u001b[1mFractal dimension is 2.073191337454757\n"
     ]
    }
   ],
   "source": [
    "X = fractalka.index.to_numpy().reshape(-1, 1)\n",
    "Y = fractalka[0].to_numpy().reshape(-1, 1)\n",
    "linear_model_d = LinearRegression()\n",
    "linear_model_d.fit(X, Y)\n",
    "d_f = linear_model_d.coef_[0][0] # фрактальная размерность\n",
    "print('\\033[1m' + 'Fractal dimension is', d_f)"
   ]
  },
  {
   "cell_type": "markdown",
   "metadata": {},
   "source": [
    "# Функция близости"
   ]
  },
  {
   "cell_type": "code",
   "execution_count": 48,
   "metadata": {},
   "outputs": [
    {
     "name": "stdout",
     "output_type": "stream",
     "text": [
      "b-value is                1.037\n",
      "d_f is                    2.073\n",
      "Minimal magnitude M_0 is  1.0\n"
     ]
    }
   ],
   "source": [
    "print(\"b-value is               \", round(b_value,3))\n",
    "print(\"d_f is                   \", round(d_f,3))\n",
    "print(\"Minimal magnitude M_0 is \", M_0)"
   ]
  },
  {
   "cell_type": "code",
   "execution_count": 49,
   "metadata": {},
   "outputs": [],
   "source": [
    "n_ = [[0] * N_tot[0] for i in range(N_tot[0])]\n",
    "T_ = [[0] * N_tot[0] for i in range(N_tot[0])]"
   ]
  },
  {
   "cell_type": "markdown",
   "metadata": {},
   "source": [
    "### Функция для рассчёта времени между зт"
   ]
  },
  {
   "cell_type": "code",
   "execution_count": 50,
   "metadata": {},
   "outputs": [
    {
     "name": "stderr",
     "output_type": "stream",
     "text": [
      "100%|██████████████████████████████████████| 1323/1323 [00:45<00:00, 28.94it/s]\n"
     ]
    }
   ],
   "source": [
    "import time\n",
    "import datetime\n",
    "import copy\n",
    "t = copy.deepcopy(my_cat.time.to_numpy())\n",
    "for i in range(len(t)):\n",
    "    t[i] = t[i].replace('T','')\n",
    "    t[i] = t[i][:-5]\n",
    "for i in tqdm(range(N_tot[0]-1,-1,-1)):\n",
    "    for j in range(i,-1,-1):\n",
    "        ti_i = time.strptime(t[i], \"%Y-%m-%d%H:%M:%S\")\n",
    "        ti_j = time.strptime(t[j], \"%Y-%m-%d%H:%M:%S\")\n",
    "        t_i = datetime.datetime(ti_i.tm_year, ti_i.tm_mon, ti_i.tm_mday, ti_i.tm_hour, ti_i.tm_min, ti_i.tm_sec)\n",
    "        t_j = datetime.datetime(ti_j.tm_year, ti_j.tm_mon, ti_j.tm_mday, ti_j.tm_hour, ti_j.tm_min, ti_j.tm_sec)\n",
    "        T_[i][j] = (t_j - t_i).total_seconds()\n",
    "        T_[j][i] = T_[i][j]\n"
   ]
  },
  {
   "cell_type": "code",
   "execution_count": 64,
   "metadata": {},
   "outputs": [
    {
     "name": "stderr",
     "output_type": "stream",
     "text": [
      "100%|██████████████████████████████████████| 1323/1323 [00:17<00:00, 76.94it/s]\n"
     ]
    }
   ],
   "source": [
    "for i in tqdm(range(N_tot[0])):\n",
    "    for j in range(i,N_tot[0]): #ВНИМАНИЕ - ХЗ ПОЧЕМУ ОТ И БЕРУ. ХОЧУ ПРОВЕРИТЬ\n",
    "        if i == j:\n",
    "            n_[i][j] = 10000000000\n",
    "            n_[j][i] = 10000000000\n",
    "            continue \n",
    "        n_[i][j] = T_[i][j]*(array_of_dist[i][j]**d_f)*(10**((-b_value)*my_cat.mag[i]))\n",
    "        n_[j][i] = n_[i][j]"
   ]
  },
  {
   "cell_type": "code",
   "execution_count": 65,
   "metadata": {},
   "outputs": [],
   "source": [
    "N = [0] * N_tot[0]\n",
    "D = [0] * N_tot[0]\n",
    "for i in range(len(n_)):\n",
    "    D[i] = round(math.log10((min(n_[i][:]))),1)\n",
    "    N[i] = n_[:][i].index(min(n_[i][:]))\n",
    "resultate = pd.DataFrame({'Closest_neigh':D, 'Index_o_CN':N})"
   ]
  },
  {
   "cell_type": "code",
   "execution_count": 66,
   "metadata": {},
   "outputs": [],
   "source": [
    "Dist_to_Nearest = resultate.Closest_neigh.value_counts(normalize=True)\n",
    "from pathlib import Path  \n",
    "filepath = Path('./results/nearest_dist.csv')\n",
    "Dist_to_Nearest.to_csv(filepath)"
   ]
  },
  {
   "cell_type": "code",
   "execution_count": null,
   "metadata": {},
   "outputs": [],
   "source": []
  }
 ],
 "metadata": {
  "kernelspec": {
   "display_name": "Python 3 (ipykernel)",
   "language": "python",
   "name": "python3"
  },
  "language_info": {
   "codemirror_mode": {
    "name": "ipython",
    "version": 3
   },
   "file_extension": ".py",
   "mimetype": "text/x-python",
   "name": "python",
   "nbconvert_exporter": "python",
   "pygments_lexer": "ipython3",
   "version": "3.9.12"
  }
 },
 "nbformat": 4,
 "nbformat_minor": 4
}
