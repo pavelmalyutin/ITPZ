{
 "cells": [
  {
   "cell_type": "markdown",
   "metadata": {},
   "source": [
    "# Малютин Павел, ИТПЗ РАН\n",
    " "
   ]
  },
  {
   "cell_type": "code",
   "execution_count": 2,
   "metadata": {},
   "outputs": [],
   "source": [
    "import pandas as pd\n",
    "import math \n",
    "import dask.dataframe as dd\n",
    "import matplotlib.pyplot as plt\n",
    "import numpy as np\n",
    "from tqdm import tqdm\n",
    "from numba import jit, njit\n",
    "from sklearn.linear_model import LinearRegression"
   ]
  },
  {
   "cell_type": "markdown",
   "metadata": {},
   "source": [
    "# b-value calculating"
   ]
  },
  {
   "cell_type": "code",
   "execution_count": 6,
   "metadata": {
    "scrolled": false
   },
   "outputs": [
    {
     "data": {
      "text/plain": [
       "pandas.core.frame.DataFrame"
      ]
     },
     "execution_count": 6,
     "metadata": {},
     "output_type": "execute_result"
    }
   ],
   "source": [
    "'''чтение файла из директории проги\n",
    "и устранение выбросов значений магнитуды округлением до 1 знака пз.'''\n",
    "my_cat = pd.read_csv('input1.csv')\n",
    "my_cat.mag = round(my_cat.mag, 1)  \n",
    "my_cat.head()"
   ]
  },
  {
   "cell_type": "code",
   "execution_count": 98,
   "metadata": {
    "scrolled": true
   },
   "outputs": [
    {
     "name": "stdout",
     "output_type": "stream",
     "text": [
      "\u001b[1mb-value is: 1.098659945063312  ±  0.024982451699328185\n"
     ]
    },
    {
     "data": {
      "image/png": "[encoded data removed]",
      "text/plain": [
       "<Figure size 432x288 with 1 Axes>"
      ]
     },
     "metadata": {
      "needs_background": "light"
     },
     "output_type": "display_data"
    }
   ],
   "source": [
    "'''Следующий кусок вычисляет необходимые для построения графика повторяемости EQ параметры\n",
    "а именно: N_tot - суммарное количество землетрясений\n",
    "a - Series, состоящая из значений lg(N/N_tot) и соотвествующих магнитуд\n",
    "и, собственно строит график ПЗ для оценки справедливости Г-Р.'''\n",
    "N_tot = my_cat.shape\n",
    "f = lambda x: math.log10(x/N_tot[0])\n",
    "a = my_cat.mag.value_counts().apply(f)\n",
    "a.plot(style='.')\n",
    "plt.grid()\n",
    "plt.xlabel(\"M\")\n",
    "plt.ylabel(\"logN\")\n",
    "plt.suptitle('График повторяемости землетрясений', \n",
    "             fontsize=14, fontweight='bold')\n",
    "b_value = 1 / (my_cat['mag'].mean() - my_cat['mag'].min()) * (1/ math.log(10)) # расчет b-value по формуле Aki\n",
    "# mag - СТОЛБЕЦ С МАГНИТУДОЙ В ДАННОЙ csv\n",
    "\n",
    "print('\\033[1m'+'b-value is:', b_value, ' ± ', b_value/math.sqrt(N_tot[0]))"
   ]
  },
  {
   "cell_type": "code",
   "execution_count": 99,
   "metadata": {},
   "outputs": [
    {
     "name": "stdout",
     "output_type": "stream",
     "text": [
      "\u001b[1mWrong b-value is [0.98591505]\n"
     ]
    }
   ],
   "source": [
    "b_val = pd.DataFrame({'Mags': a.index, 'LogN': a.values})\n",
    "Mags = b_val.Mags.to_numpy().reshape(-1, 1)\n",
    "LogN = b_val.LogN.to_numpy().reshape(-1, 1)\n",
    "A = LinearRegression()\n",
    "A.fit(Mags, LogN)\n",
    "print('\\033[1m' + 'Wrong b-value is', -A.coef_[0])"
   ]
  },
  {
   "cell_type": "code",
   "execution_count": 108,
   "metadata": {},
   "outputs": [
    {
     "name": "stdout",
     "output_type": "stream",
     "text": [
      "\u001b[1mBetter b-value is [1.07368867]\n"
     ]
    }
   ],
   "source": [
    "Mags1 = b_val.drop([2,4,16,18]).Mags.to_numpy().reshape(-1, 1)\n",
    "LogN1 = b_val.drop([2,4,16,18]).LogN.to_numpy().reshape(-1, 1)\n",
    "B = LinearRegression()\n",
    "B.fit(Mags1, LogN1)\n",
    "print('\\033[1m' + 'Better b-value is', -B.coef_[0])"
   ]
  },
  {
   "cell_type": "markdown",
   "metadata": {},
   "source": [
    "# Fractal dimension\n",
    "#### но, прежде всего, функция вычисления расстояния между землетрясениями\n"
   ]
  },
  {
   "cell_type": "code",
   "execution_count": 101,
   "metadata": {},
   "outputs": [],
   "source": [
    "global Pi2, RAD, FLAT\n",
    "Pi2 = math.pi/2 # тупо пи-на-два\n",
    "RAD = 0.01745329 # DGR -> RAD\n",
    "FLAT = 0.993231 # поправка на эллипсоидноть"
   ]
  },
  {
   "cell_type": "code",
   "execution_count": 102,
   "metadata": {},
   "outputs": [],
   "source": [
    "@njit\n",
    "def eq_dist (fi1, la1, fi2, la2, d1, d2): # fi - широта (latitude), la - долгота (longtitude)\n",
    "    '''Функция позволяет вычислять расстояение между двумя точками земли с учетом сплюсности и глубины'''    \n",
    "    if ((fi1-fi2)==0 and (la1-la2)==0): #проверка на расстояние между одним и тем же землетрясением\n",
    "        return (0.0)  \n",
    "    col1 = Pi2 - math.atan(FLAT * math.tan(fi1 * RAD))\n",
    "    col2 = Pi2 - math.atan(FLAT * math.tan(fi2 * RAD))\n",
    "    \n",
    "    dlon =  la2 * RAD - la1 * RAD\n",
    "    \n",
    "    cosdel = math.sin(col1) * math.sin (col2) * math.cos(dlon) + math.cos(col1) * math.cos(col2)\n",
    "    delr = math.acos(cosdel)\n",
    "    colat = Pi2 - (fi1 * RAD + fi2 * RAD) / 2.0\n",
    "    return math.sqrt((delr * 6371.227 * (1.0 + 0.00337853 * (1./3. -((math.cos(colat))*math.cos(colat)))))**2 + (d2-d1)**2)"
   ]
  },
  {
   "cell_type": "markdown",
   "metadata": {},
   "source": [
    "## Непосредственный расчёт фрактальной размерности"
   ]
  },
  {
   "cell_type": "code",
   "execution_count": 103,
   "metadata": {},
   "outputs": [],
   "source": [
    "'''создание numpy-array для более быстрого обращения [к памяти]\n",
    "в цикле к соответствующим значениям широты и долготы'''\n",
    "latitude = my_cat.latitude.to_numpy()\n",
    "longitude = my_cat.longitude.to_numpy()\n",
    "depth = my_cat.depth.to_numpy()"
   ]
  },
  {
   "cell_type": "code",
   "execution_count": 104,
   "metadata": {},
   "outputs": [
    {
     "name": "stderr",
     "output_type": "stream",
     "text": [
      "100%|█████████████████████████████████████| 1934/1934 [00:05<00:00, 369.71it/s]\n"
     ]
    }
   ],
   "source": [
    "'''Вместо того, чтобы каждый раз перебирать для каждого заданного расстояния между\n",
    "землетрясениями все возможные пары расстояний, в самом начале создается массив\n",
    "с этими парами. Это существенно сокращает время выполнения программы'''\n",
    "\n",
    "array_of_dist = []\n",
    "for k in tqdm(range((N_tot[0]))):\n",
    "    for j in range(k+1, N_tot[0]):\n",
    "        array_of_dist.append(eq_dist(latitude[k], longitude[k], latitude[j], longitude[j], depth[k], depth[j]))"
   ]
  },
  {
   "cell_type": "code",
   "execution_count": 105,
   "metadata": {},
   "outputs": [
    {
     "name": "stderr",
     "output_type": "stream",
     "text": [
      "100%|██████████████████████████████████████████| 50/50 [00:12<00:00,  3.94it/s]\n"
     ]
    }
   ],
   "source": [
    "fractalka = pd.DataFrame(dtype='float')  #ДФ с lg(N/N_0) и lg(A)\n",
    "X = np.linspace(0.09,2,50)                 #задает равномерно распределенный массив возможных расстояний м/у ЗТ\n",
    "total_pairs = N_tot[0]*(N_tot[0]-1)/2    #общее количество пар землетрясений \n",
    "for i in tqdm(X):  \n",
    "    element_count = len([item for item in array_of_dist if item < i])  #количество эл-в меньше определенного расстояния \n",
    "    fractalka = pd.concat([fractalka, pd.DataFrame ([math.log10(element_count/total_pairs)],[math.log10(i)])])\n",
    "    #объединение старого массива для расчета FD и новых данных с lg(N/N_0) и lg(A)"
   ]
  },
  {
   "cell_type": "code",
   "execution_count": 106,
   "metadata": {},
   "outputs": [
    {
     "data": {
      "text/plain": [
       "Text(0, 0.5, 'log(N/N_0)')"
      ]
     },
     "execution_count": 106,
     "metadata": {},
     "output_type": "execute_result"
    },
    {
     "data": {
      "image/png": "[encoded data removed]",
      "text/plain": [
       "<Figure size 432x288 with 1 Axes>"
      ]
     },
     "metadata": {
      "needs_background": "light"
     },
     "output_type": "display_data"
    }
   ],
   "source": [
    "fractalka.plot(style='.')\n",
    "plt.suptitle('График зав-ти логарифма отн. числа пар землетрясений' '\\nпри заданном расстоянии от логарифма этого расстояния', \n",
    "             fontsize=14, fontweight='bold')\n",
    "plt.grid()\n",
    "plt.xlabel(\"log(A)\")\n",
    "plt.ylabel(\"log(N/N_0)\")"
   ]
  },
  {
   "cell_type": "code",
   "execution_count": 107,
   "metadata": {},
   "outputs": [
    {
     "name": "stdout",
     "output_type": "stream",
     "text": [
      "\u001b[1mFractal dimension is 2.2207299691916114\n"
     ]
    }
   ],
   "source": [
    "X = fractalka.index.to_numpy().reshape(-1, 1)\n",
    "Y = fractalka[0].to_numpy().reshape(-1, 1)\n",
    "linear_model = LinearRegression()\n",
    "linear_model.fit(X, Y)\n",
    "print('\\033[1m' + 'Fractal dimension is', linear_model.coef_[0][0])"
   ]
  }
 ],
 "metadata": {
  "kernelspec": {
   "display_name": "Python 3 (ipykernel)",
   "language": "python",
   "name": "python3"
  },
  "language_info": {
   "codemirror_mode": {
    "name": "ipython",
    "version": 3
   },
   "file_extension": ".py",
   "mimetype": "text/x-python",
   "name": "python",
   "nbconvert_exporter": "python",
   "pygments_lexer": "ipython3",
   "version": "3.9.12"
  }
 },
 "nbformat": 4,
 "nbformat_minor": 4
}
